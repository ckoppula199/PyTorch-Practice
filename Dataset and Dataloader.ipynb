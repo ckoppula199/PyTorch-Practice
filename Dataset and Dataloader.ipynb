{
 "cells": [
  {
   "cell_type": "code",
   "execution_count": 2,
   "id": "c4778fb9",
   "metadata": {},
   "outputs": [],
   "source": [
    "import torch\n",
    "import torchvision\n",
    "import numpy as np\n",
    "import math\n",
    "from torch.utils.data import Dataset, DataLoader"
   ]
  },
  {
   "cell_type": "code",
   "execution_count": 3,
   "id": "dfc3c35f",
   "metadata": {},
   "outputs": [],
   "source": [
    "class WineDataset(Dataset):\n",
    "    \n",
    "    def __init__(self):\n",
    "        xy = np.loadtxt('./data/wine.csv', delimiter=',', dtype=np.float32, skiprows=1)\n",
    "        self.x = torch.from_numpy(xy[:, 1:])\n",
    "        self.y = torch.from_numpy(xy[:, [0]])\n",
    "        self.n_samples = xy.shape[0]\n",
    "        \n",
    "    def __getitem__(self, index):\n",
    "        return self.x[index], self.y[index]\n",
    "        \n",
    "    def __len__(self):\n",
    "        return self.n_samples"
   ]
  },
  {
   "cell_type": "code",
   "execution_count": 4,
   "id": "f3f69e00",
   "metadata": {},
   "outputs": [],
   "source": [
    "dataset = WineDataset()"
   ]
  },
  {
   "cell_type": "code",
   "execution_count": 5,
   "id": "326a48ae",
   "metadata": {},
   "outputs": [
    {
     "name": "stdout",
     "output_type": "stream",
     "text": [
      "tensor([1.4230e+01, 1.7100e+00, 2.4300e+00, 1.5600e+01, 1.2700e+02, 2.8000e+00,\n",
      "        3.0600e+00, 2.8000e-01, 2.2900e+00, 5.6400e+00, 1.0400e+00, 3.9200e+00,\n",
      "        1.0650e+03])\n",
      "tensor([1.])\n"
     ]
    }
   ],
   "source": [
    "first_data = dataset[0]\n",
    "features, labels = first_data\n",
    "print(features)\n",
    "print(labels)"
   ]
  },
  {
   "cell_type": "code",
   "execution_count": 6,
   "id": "cf1c48a4",
   "metadata": {},
   "outputs": [
    {
     "name": "stdout",
     "output_type": "stream",
     "text": [
      "tensor([[1.2250e+01, 1.7300e+00, 2.1200e+00, 1.9000e+01, 8.0000e+01, 1.6500e+00,\n",
      "         2.0300e+00, 3.7000e-01, 1.6300e+00, 3.4000e+00, 1.0000e+00, 3.1700e+00,\n",
      "         5.1000e+02],\n",
      "        [1.3360e+01, 2.5600e+00, 2.3500e+00, 2.0000e+01, 8.9000e+01, 1.4000e+00,\n",
      "         5.0000e-01, 3.7000e-01, 6.4000e-01, 5.6000e+00, 7.0000e-01, 2.4700e+00,\n",
      "         7.8000e+02],\n",
      "        [1.2170e+01, 1.4500e+00, 2.5300e+00, 1.9000e+01, 1.0400e+02, 1.8900e+00,\n",
      "         1.7500e+00, 4.5000e-01, 1.0300e+00, 2.9500e+00, 1.4500e+00, 2.2300e+00,\n",
      "         3.5500e+02],\n",
      "        [1.2930e+01, 3.8000e+00, 2.6500e+00, 1.8600e+01, 1.0200e+02, 2.4100e+00,\n",
      "         2.4100e+00, 2.5000e-01, 1.9800e+00, 4.5000e+00, 1.0300e+00, 3.5200e+00,\n",
      "         7.7000e+02]])\n",
      "tensor([[2.],\n",
      "        [3.],\n",
      "        [2.],\n",
      "        [1.]])\n"
     ]
    }
   ],
   "source": [
    "dataloader = DataLoader(dataset=dataset, batch_size=4, shuffle=True)\n",
    "\n",
    "data_iter = iter(dataloader)\n",
    "data = next(data_iter)\n",
    "features, labels = data\n",
    "print(features)\n",
    "print(labels)"
   ]
  },
  {
   "cell_type": "code",
   "execution_count": 7,
   "id": "060df4ca",
   "metadata": {},
   "outputs": [
    {
     "name": "stdout",
     "output_type": "stream",
     "text": [
      "178 45\n"
     ]
    }
   ],
   "source": [
    "# training loop\n",
    "num_epochs = 2\n",
    "total_samples = len(dataset)\n",
    "n_iters = math.ceil(total_samples/4)\n",
    "print(total_samples, n_iters)"
   ]
  },
  {
   "cell_type": "code",
   "execution_count": 8,
   "id": "471b93e3",
   "metadata": {},
   "outputs": [
    {
     "name": "stdout",
     "output_type": "stream",
     "text": [
      "epoch: 1/2, step 5/45, inputs torch.Size([4, 13])\n",
      "epoch: 1/2, step 10/45, inputs torch.Size([4, 13])\n",
      "epoch: 1/2, step 15/45, inputs torch.Size([4, 13])\n",
      "epoch: 1/2, step 20/45, inputs torch.Size([4, 13])\n",
      "epoch: 1/2, step 25/45, inputs torch.Size([4, 13])\n",
      "epoch: 1/2, step 30/45, inputs torch.Size([4, 13])\n",
      "epoch: 1/2, step 35/45, inputs torch.Size([4, 13])\n",
      "epoch: 1/2, step 40/45, inputs torch.Size([4, 13])\n",
      "epoch: 1/2, step 45/45, inputs torch.Size([2, 13])\n",
      "epoch: 2/2, step 5/45, inputs torch.Size([4, 13])\n",
      "epoch: 2/2, step 10/45, inputs torch.Size([4, 13])\n",
      "epoch: 2/2, step 15/45, inputs torch.Size([4, 13])\n",
      "epoch: 2/2, step 20/45, inputs torch.Size([4, 13])\n",
      "epoch: 2/2, step 25/45, inputs torch.Size([4, 13])\n",
      "epoch: 2/2, step 30/45, inputs torch.Size([4, 13])\n",
      "epoch: 2/2, step 35/45, inputs torch.Size([4, 13])\n",
      "epoch: 2/2, step 40/45, inputs torch.Size([4, 13])\n",
      "epoch: 2/2, step 45/45, inputs torch.Size([2, 13])\n"
     ]
    }
   ],
   "source": [
    "for epoch in range(num_epochs):\n",
    "    for i, (inputs, labels) in enumerate(dataloader):\n",
    "        # forward and backward pass, update step\n",
    "        if (i+1) % 5 == 0:\n",
    "            print(f'epoch: {epoch+1}/{num_epochs}, step {i+1}/{n_iters}, inputs {inputs.shape}')"
   ]
  },
  {
   "cell_type": "code",
   "execution_count": null,
   "id": "716653b2",
   "metadata": {},
   "outputs": [],
   "source": []
  }
 ],
 "metadata": {
  "kernelspec": {
   "display_name": "Python 3 (ipykernel)",
   "language": "python",
   "name": "python3"
  },
  "language_info": {
   "codemirror_mode": {
    "name": "ipython",
    "version": 3
   },
   "file_extension": ".py",
   "mimetype": "text/x-python",
   "name": "python",
   "nbconvert_exporter": "python",
   "pygments_lexer": "ipython3",
   "version": "3.10.8"
  }
 },
 "nbformat": 4,
 "nbformat_minor": 5
}
