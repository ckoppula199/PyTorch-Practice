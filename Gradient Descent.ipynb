{
 "cells": [
  {
   "cell_type": "code",
   "execution_count": 46,
   "id": "1a273abd",
   "metadata": {},
   "outputs": [],
   "source": [
    "# Numpy only\n",
    "import numpy as np"
   ]
  },
  {
   "cell_type": "code",
   "execution_count": 47,
   "id": "7bb50563",
   "metadata": {},
   "outputs": [],
   "source": [
    "X = np.array([1, 2, 3, 4], dtype=np.float32)\n",
    "Y = np.array([2, 4, 6, 8], dtype=np.float32)\n",
    "\n",
    "w = 0.0"
   ]
  },
  {
   "cell_type": "code",
   "execution_count": 48,
   "id": "b7be99ce",
   "metadata": {},
   "outputs": [],
   "source": [
    "# model prediction\n",
    "def forward(x):\n",
    "    return w * x\n",
    "\n",
    "# loss = MSE\n",
    "def loss(y, y_pred):\n",
    "    return ((y_pred - y)**2).mean()"
   ]
  },
  {
   "cell_type": "code",
   "execution_count": 49,
   "id": "dd1e036f",
   "metadata": {},
   "outputs": [
    {
     "name": "stdout",
     "output_type": "stream",
     "text": [
      "Prediction before training: f(5): 0.000\n"
     ]
    }
   ],
   "source": [
    "# gradient using numpy\n",
    "# MSE = 1/N * (w*x - y)**2\n",
    "# dJ/dq = 1/N 2x (w*x - y)\n",
    "def gradient(x, y, y_pred):\n",
    "    return np.dot(2 * x, y_pred -  y).mean()\n",
    "\n",
    "print(f'Prediction before training: f(5): {forward(5):.3f}')"
   ]
  },
  {
   "cell_type": "code",
   "execution_count": 50,
   "id": "a309e82f",
   "metadata": {},
   "outputs": [
    {
     "name": "stdout",
     "output_type": "stream",
     "text": [
      "Epoch: 1, w = 1.200, loss = 30.00000000\n",
      "Epoch: 3, w = 1.872, loss = 0.76800019\n",
      "Epoch: 5, w = 1.980, loss = 0.01966083\n",
      "Epoch: 7, w = 1.997, loss = 0.00050332\n",
      "Epoch: 9, w = 1.999, loss = 0.00001288\n",
      "Epoch: 11, w = 2.000, loss = 0.00000033\n",
      "Epoch: 13, w = 2.000, loss = 0.00000001\n",
      "Epoch: 15, w = 2.000, loss = 0.00000000\n",
      "Epoch: 17, w = 2.000, loss = 0.00000000\n",
      "Epoch: 19, w = 2.000, loss = 0.00000000\n",
      "Prediction before training: f(5): 10.000\n"
     ]
    }
   ],
   "source": [
    "# Training\n",
    "learning_rate = 0.01\n",
    "niters = 20\n",
    "\n",
    "for epoch in range(niters):\n",
    "    # prediction = forward_pass\n",
    "    y_pred = forward(X)\n",
    "    \n",
    "    # loss\n",
    "    l = loss(Y, y_pred)\n",
    "    \n",
    "    # gradients\n",
    "    dw = gradient(X, Y, y_pred)\n",
    "    \n",
    "    # update weights\n",
    "    w -= learning_rate * dw\n",
    "    \n",
    "    if epoch % 2 == 0:\n",
    "        print(f'Epoch: {epoch+1}, w = {w:.3f}, loss = {l:.8f}')\n",
    "\n",
    "print(f'Prediction before training: f(5): {forward(5):.3f}')"
   ]
  },
  {
   "cell_type": "code",
   "execution_count": 51,
   "id": "0e4f1158",
   "metadata": {},
   "outputs": [],
   "source": [
    "# Using PyTorch for working out gradient\n",
    "import torch"
   ]
  },
  {
   "cell_type": "code",
   "execution_count": 52,
   "id": "defffa4e",
   "metadata": {},
   "outputs": [],
   "source": [
    "X = torch.tensor([1, 2, 3, 4], dtype=torch.float32)\n",
    "Y = torch.tensor([2, 4, 6, 8], dtype=torch.float32)\n",
    "\n",
    "w = torch.tensor(0.0, dtype=torch.float32, requires_grad=True)"
   ]
  },
  {
   "cell_type": "code",
   "execution_count": 53,
   "id": "4a1e00ca",
   "metadata": {},
   "outputs": [
    {
     "name": "stdout",
     "output_type": "stream",
     "text": [
      "Epoch: 1, w = 0.300, loss = 30.00000000\n",
      "Epoch: 11, w = 1.665, loss = 1.16278565\n",
      "Epoch: 21, w = 1.934, loss = 0.04506890\n",
      "Epoch: 31, w = 1.987, loss = 0.00174685\n",
      "Epoch: 41, w = 1.997, loss = 0.00006770\n",
      "Epoch: 51, w = 1.999, loss = 0.00000262\n",
      "Epoch: 61, w = 2.000, loss = 0.00000010\n",
      "Epoch: 71, w = 2.000, loss = 0.00000000\n",
      "Epoch: 81, w = 2.000, loss = 0.00000000\n",
      "Epoch: 91, w = 2.000, loss = 0.00000000\n",
      "Prediction before training: f(5): 10.000\n"
     ]
    }
   ],
   "source": [
    "# Training\n",
    "learning_rate = 0.01\n",
    "niters = 100\n",
    "\n",
    "for epoch in range(niters):\n",
    "    # prediction = forward_pass\n",
    "    y_pred = forward(X)\n",
    "    \n",
    "    # loss\n",
    "    l = loss(Y, y_pred)\n",
    "    \n",
    "    # gradients\n",
    "    l.backward() # Using PyTorch for the backprop\n",
    "    \n",
    "    # update weights\n",
    "    with torch.no_grad():\n",
    "        w -= learning_rate * w.grad\n",
    "        \n",
    "    # zero gradients to prevent accumulation of gradients\n",
    "    w.grad.zero_()\n",
    "    \n",
    "    if epoch % 10 == 0:\n",
    "        print(f'Epoch: {epoch+1}, w = {w:.3f}, loss = {l:.8f}')\n",
    "\n",
    "print(f'Prediction before training: f(5): {forward(5):.3f}')"
   ]
  },
  {
   "cell_type": "code",
   "execution_count": null,
   "id": "7e81e612",
   "metadata": {},
   "outputs": [],
   "source": []
  }
 ],
 "metadata": {
  "kernelspec": {
   "display_name": "Python 3 (ipykernel)",
   "language": "python",
   "name": "python3"
  },
  "language_info": {
   "codemirror_mode": {
    "name": "ipython",
    "version": 3
   },
   "file_extension": ".py",
   "mimetype": "text/x-python",
   "name": "python",
   "nbconvert_exporter": "python",
   "pygments_lexer": "ipython3",
   "version": "3.10.8"
  }
 },
 "nbformat": 4,
 "nbformat_minor": 5
}
