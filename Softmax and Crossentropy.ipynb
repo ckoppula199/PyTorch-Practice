{
 "cells": [
  {
   "cell_type": "code",
   "execution_count": 15,
   "id": "639b7a59",
   "metadata": {},
   "outputs": [],
   "source": [
    "import torch\n",
    "import torch.nn as nn\n",
    "import numpy as np"
   ]
  },
  {
   "cell_type": "code",
   "execution_count": 16,
   "id": "5400eba1",
   "metadata": {},
   "outputs": [],
   "source": [
    "def softmax(x):\n",
    "    return np.exp(x) / np.sum(np.exp(x), axis=0)"
   ]
  },
  {
   "cell_type": "code",
   "execution_count": 17,
   "id": "871081ce",
   "metadata": {},
   "outputs": [
    {
     "name": "stdout",
     "output_type": "stream",
     "text": [
      "softmax numpy:  [0.65900114 0.24243297 0.09856589]\n"
     ]
    }
   ],
   "source": [
    "x = np.array([2.0, 1.0, 0.1])\n",
    "outputs = softmax(x)\n",
    "print('softmax numpy: ', outputs)"
   ]
  },
  {
   "cell_type": "code",
   "execution_count": 18,
   "id": "59fe9aca",
   "metadata": {},
   "outputs": [
    {
     "name": "stdout",
     "output_type": "stream",
     "text": [
      "softmax torch:  tensor([0.6590, 0.2424, 0.0986])\n"
     ]
    }
   ],
   "source": [
    "x = torch.tensor([2.0, 1.0, 0.1])\n",
    "outputs = torch.softmax(x, dim=0)\n",
    "print('softmax torch: ', outputs)"
   ]
  },
  {
   "cell_type": "code",
   "execution_count": 19,
   "id": "50555f5a",
   "metadata": {},
   "outputs": [],
   "source": [
    "def cross_entropy(actual, predicted):\n",
    "    loss = -np.sum(actual * np.log(predicted))\n",
    "    return loss"
   ]
  },
  {
   "cell_type": "code",
   "execution_count": 20,
   "id": "3fa371ec",
   "metadata": {},
   "outputs": [
    {
     "name": "stdout",
     "output_type": "stream",
     "text": [
      "Loss 1:  0.35667494393873245\n",
      "Loss 2:  2.3025850929940455\n"
     ]
    }
   ],
   "source": [
    "Y = np.array([1, 0, 0])\n",
    "\n",
    "Y_pred_good = np.array([0.7, 0.2, 0.1])\n",
    "Y_pred_bad = np.array([0.1, 0.3, 0.6])\n",
    "\n",
    "l1 = cross_entropy(Y, Y_pred_good)\n",
    "l2 = cross_entropy(Y, Y_pred_bad)\n",
    "\n",
    "print(\"Loss 1: \", l1)\n",
    "print(\"Loss 2: \", l2)"
   ]
  },
  {
   "cell_type": "code",
   "execution_count": 22,
   "id": "f2181915",
   "metadata": {},
   "outputs": [
    {
     "name": "stdout",
     "output_type": "stream",
     "text": [
      "Loss 1:  0.4170299470424652\n",
      "Loss 2:  1.5839687585830688\n"
     ]
    }
   ],
   "source": [
    "loss = nn.CrossEntropyLoss() # includes softmax, Y should be class labels\n",
    "\n",
    "Y = torch.tensor([0])\n",
    "# nsamples x nclasses = 1x3\n",
    "Y_pred_good = torch.tensor([[2.0, 1.0, 0.1]]) # no softmax, raw values\n",
    "Y_pred_bad = torch.tensor([[0.2, 1.0, 0.7]]) # no softmax, raw values\n",
    "\n",
    "l1 = loss(Y_pred_good, Y)\n",
    "l2 = loss(Y_pred_bad, Y)\n",
    "\n",
    "print(\"Loss 1: \", l1.item())\n",
    "print(\"Loss 2: \", l2.item())"
   ]
  },
  {
   "cell_type": "code",
   "execution_count": 23,
   "id": "2743854c",
   "metadata": {},
   "outputs": [
    {
     "name": "stdout",
     "output_type": "stream",
     "text": [
      "tensor([0])\n",
      "tensor([1])\n"
     ]
    }
   ],
   "source": [
    "_, preds_1 = torch.max(Y_pred_good, 1)\n",
    "_, preds_2 = torch.max(Y_pred_bad, 1)\n",
    "\n",
    "print(preds_1)\n",
    "print(preds_2)"
   ]
  },
  {
   "cell_type": "code",
   "execution_count": 26,
   "id": "0ab3cb4c",
   "metadata": {},
   "outputs": [
    {
     "name": "stdout",
     "output_type": "stream",
     "text": [
      "Loss 1:  tensor(0.1422)\n"
     ]
    }
   ],
   "source": [
    "# multiple samples\n",
    "Y = torch.tensor([2, 0, 1])\n",
    "\n",
    "Y_pred_good = torch.tensor([[0.1, 1.0, 7.6], [2.0, 1.0, 0.1], [2.0, 7.0, 0.1]]) # no softmax, raw values\n",
    "\n",
    "l1 = loss(Y_pred_good, Y)\n",
    "\n",
    "print(\"Loss 1: \", l1)"
   ]
  },
  {
   "cell_type": "code",
   "execution_count": 27,
   "id": "d16e5dcf",
   "metadata": {},
   "outputs": [
    {
     "name": "stdout",
     "output_type": "stream",
     "text": [
      "tensor([2, 0, 1])\n"
     ]
    }
   ],
   "source": [
    "_, preds = torch.max(Y_pred_good, 1)\n",
    "print(preds)"
   ]
  },
  {
   "cell_type": "code",
   "execution_count": 31,
   "id": "a166bce4",
   "metadata": {},
   "outputs": [],
   "source": [
    "# Use in Neural Network\n",
    "\n",
    "# Multiclass problem\n",
    "class NeuralNet(nn.Module):\n",
    "    \n",
    "    def __init__(self, input_size, hidden_size, num_classes):\n",
    "        super().__init__()\n",
    "        self.linear1 = nn.Linear(input_size, hidden_size)\n",
    "        self.relu = nn.ReLU()\n",
    "        self.Linear2 = nn.Linear(hidden_size, num_classes)\n",
    "        \n",
    "    def forward(self, x):\n",
    "        out = self.linear1(x)\n",
    "        out = self.relu(out)\n",
    "        out = self.linear2(out)\n",
    "        # no softmax at end\n",
    "        return out"
   ]
  },
  {
   "cell_type": "code",
   "execution_count": 32,
   "id": "f73e8d76",
   "metadata": {},
   "outputs": [],
   "source": [
    "model = NeuralNet(input_size=28*28, hidden_size=5, num_classes=3)\n",
    "criterion = nn.CrossEntropyLoss() # applies softmax"
   ]
  },
  {
   "cell_type": "code",
   "execution_count": 33,
   "id": "169d7ef4",
   "metadata": {},
   "outputs": [],
   "source": [
    "# Binary Problem\n",
    "class NeuralNet(nn.Module):\n",
    "    \n",
    "    def __init__(self, input_size, hidden_size):\n",
    "        super().__init__()\n",
    "        self.linear1 = nn.Linear(input_size, hidden_size)\n",
    "        self.relu = nn.ReLU()\n",
    "        self.Linear2 = nn.Linear(hidden_size, 1)\n",
    "        \n",
    "    def forward(self, x):\n",
    "        out = self.linear1(x)\n",
    "        out = self.relu(out)\n",
    "        out = self.linear2(out)\n",
    "        y_pred = torch.sigmoid(out)\n",
    "        return y_pred"
   ]
  },
  {
   "cell_type": "code",
   "execution_count": 34,
   "id": "fac749f6",
   "metadata": {},
   "outputs": [],
   "source": [
    "model = NeuralNet(input_size=28*28, hidden_size=5)\n",
    "criterion = nn.BCELoss()"
   ]
  },
  {
   "cell_type": "code",
   "execution_count": null,
   "id": "719b8ac6",
   "metadata": {},
   "outputs": [],
   "source": []
  }
 ],
 "metadata": {
  "kernelspec": {
   "display_name": "Python 3 (ipykernel)",
   "language": "python",
   "name": "python3"
  },
  "language_info": {
   "codemirror_mode": {
    "name": "ipython",
    "version": 3
   },
   "file_extension": ".py",
   "mimetype": "text/x-python",
   "name": "python",
   "nbconvert_exporter": "python",
   "pygments_lexer": "ipython3",
   "version": "3.10.8"
  }
 },
 "nbformat": 4,
 "nbformat_minor": 5
}
