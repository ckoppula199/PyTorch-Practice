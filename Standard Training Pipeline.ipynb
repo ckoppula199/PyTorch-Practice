{
 "cells": [
  {
   "cell_type": "code",
   "execution_count": 62,
   "id": "9a07086a",
   "metadata": {},
   "outputs": [],
   "source": [
    "import torch\n",
    "import torch.nn as nn"
   ]
  },
  {
   "cell_type": "code",
   "execution_count": 63,
   "id": "79b9847d",
   "metadata": {},
   "outputs": [
    {
     "name": "stdout",
     "output_type": "stream",
     "text": [
      "4\n",
      "1\n"
     ]
    }
   ],
   "source": [
    "X = torch.tensor([[1], [2], [3], [4]], dtype=torch.float32)\n",
    "Y = torch.tensor([[2], [4], [6], [8]], dtype=torch.float32)\n",
    "\n",
    "X_test = torch.tensor([5], dtype=torch.float32)\n",
    "n_samples, n_features = X.shape\n",
    "print(n_samples)\n",
    "print(n_features)\n",
    "\n",
    "input_size, output_size = n_features, n_features"
   ]
  },
  {
   "cell_type": "code",
   "execution_count": 64,
   "id": "453803df",
   "metadata": {},
   "outputs": [
    {
     "name": "stdout",
     "output_type": "stream",
     "text": [
      "Prediction before training: f(5) = 4.043219\n"
     ]
    }
   ],
   "source": [
    "# model\n",
    "class LinearRegression(nn.Module):\n",
    "    \n",
    "    def __init__(self, input_dim, output_dim):\n",
    "        super().__init__()\n",
    "        # define layers\n",
    "        self.lin = nn.Linear(input_dim, output_dim)\n",
    "        \n",
    "    def forward(self, x):\n",
    "        return self.lin(x)\n",
    "    \n",
    "model = LinearRegression(input_size, output_size)\n",
    "\n",
    "print(f'Prediction before training: f(5) = {model(X_test).item():3f}')"
   ]
  },
  {
   "cell_type": "code",
   "execution_count": 65,
   "id": "e85baadd",
   "metadata": {},
   "outputs": [
    {
     "name": "stdout",
     "output_type": "stream",
     "text": [
      "Epoch: 1, w = 2.842, loss = 12.22280598\n",
      "Epoch: 11, w = 2.069, loss = 0.00867721\n",
      "Epoch: 21, w = 2.041, loss = 0.00251212\n",
      "Epoch: 31, w = 2.030, loss = 0.00136707\n",
      "Epoch: 41, w = 2.022, loss = 0.00074434\n",
      "Epoch: 51, w = 2.016, loss = 0.00040528\n",
      "Epoch: 61, w = 2.012, loss = 0.00022067\n",
      "Epoch: 71, w = 2.009, loss = 0.00012015\n",
      "Epoch: 81, w = 2.007, loss = 0.00006542\n",
      "Epoch: 91, w = 2.005, loss = 0.00003562\n",
      "Prediction after training: f(5) = 10.007549\n"
     ]
    }
   ],
   "source": [
    "# Training\n",
    "learning_rate = 0.1\n",
    "niters = 100\n",
    "\n",
    "loss = nn.MSELoss()\n",
    "optimizer = torch.optim.SGD(model.parameters(), lr=learning_rate)\n",
    "\n",
    "for epoch in range(niters):\n",
    "    # prediction = forward_pass\n",
    "    y_pred = model(X)\n",
    "    \n",
    "    # loss\n",
    "    l = loss(Y, y_pred)\n",
    "    \n",
    "    # gradients\n",
    "    l.backward() # Using PyTorch for the backprop\n",
    "    \n",
    "    # update weights\n",
    "    optimizer.step()\n",
    "        \n",
    "    # zero gradients to prevent accumulation of gradients\n",
    "    optimizer.zero_grad()\n",
    "    \n",
    "    if epoch % 10 == 0:\n",
    "        [w, b] = model.parameters()\n",
    "        print(f'Epoch: {epoch+1}, w = {w[0][0].item():.3f}, loss = {l:.8f}')\n",
    "\n",
    "print(f'Prediction after training: f(5) = {model(X_test).item():3f}')"
   ]
  },
  {
   "cell_type": "code",
   "execution_count": null,
   "id": "0f5dd9b3",
   "metadata": {},
   "outputs": [],
   "source": []
  }
 ],
 "metadata": {
  "kernelspec": {
   "display_name": "Python 3 (ipykernel)",
   "language": "python",
   "name": "python3"
  },
  "language_info": {
   "codemirror_mode": {
    "name": "ipython",
    "version": 3
   },
   "file_extension": ".py",
   "mimetype": "text/x-python",
   "name": "python",
   "nbconvert_exporter": "python",
   "pygments_lexer": "ipython3",
   "version": "3.10.8"
  }
 },
 "nbformat": 4,
 "nbformat_minor": 5
}
