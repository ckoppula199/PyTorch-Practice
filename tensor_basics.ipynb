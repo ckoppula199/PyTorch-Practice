{
 "cells": [
  {
   "cell_type": "code",
   "execution_count": 1,
   "id": "dc198b5c",
   "metadata": {},
   "outputs": [],
   "source": [
    "import torch\n",
    "import numpy as np"
   ]
  },
  {
   "cell_type": "code",
   "execution_count": 5,
   "id": "f06535ea",
   "metadata": {},
   "outputs": [
    {
     "data": {
      "text/plain": [
       "tensor([[4.2191e-08, 3.2771e-09, 1.3236e-08],\n",
       "        [8.4713e-07, 8.2187e+20, 1.6705e+22]])"
      ]
     },
     "execution_count": 5,
     "metadata": {},
     "output_type": "execute_result"
    }
   ],
   "source": [
    "#create empty tensor\n",
    "x = torch.empty(2, 3)\n",
    "x"
   ]
  },
  {
   "cell_type": "code",
   "execution_count": 10,
   "id": "4e587958",
   "metadata": {},
   "outputs": [
    {
     "data": {
      "text/plain": [
       "tensor([[0.7740, 0.4350],\n",
       "        [0.4540, 0.3847]])"
      ]
     },
     "execution_count": 10,
     "metadata": {},
     "output_type": "execute_result"
    }
   ],
   "source": [
    "x = torch.rand(2, 2)\n",
    "x"
   ]
  },
  {
   "cell_type": "code",
   "execution_count": 12,
   "id": "95dfa363",
   "metadata": {},
   "outputs": [
    {
     "data": {
      "text/plain": [
       "tensor([[0., 0.],\n",
       "        [0., 0.]])"
      ]
     },
     "execution_count": 12,
     "metadata": {},
     "output_type": "execute_result"
    }
   ],
   "source": [
    "x = torch.zeros(2, 2)\n",
    "x"
   ]
  },
  {
   "cell_type": "code",
   "execution_count": 13,
   "id": "03c387c2",
   "metadata": {},
   "outputs": [
    {
     "data": {
      "text/plain": [
       "tensor([[1., 1.],\n",
       "        [1., 1.]])"
      ]
     },
     "execution_count": 13,
     "metadata": {},
     "output_type": "execute_result"
    }
   ],
   "source": [
    "x = torch.ones(2, 2)\n",
    "x"
   ]
  },
  {
   "cell_type": "code",
   "execution_count": 14,
   "id": "d797bcfe",
   "metadata": {},
   "outputs": [
    {
     "data": {
      "text/plain": [
       "torch.float32"
      ]
     },
     "execution_count": 14,
     "metadata": {},
     "output_type": "execute_result"
    }
   ],
   "source": [
    "x.dtype"
   ]
  },
  {
   "cell_type": "code",
   "execution_count": 15,
   "id": "94cec7a1",
   "metadata": {},
   "outputs": [
    {
     "data": {
      "text/plain": [
       "torch.int32"
      ]
     },
     "execution_count": 15,
     "metadata": {},
     "output_type": "execute_result"
    }
   ],
   "source": [
    "x = torch.ones(2, 2, dtype=torch.int)\n",
    "x.dtype"
   ]
  },
  {
   "cell_type": "code",
   "execution_count": 17,
   "id": "6a80fa92",
   "metadata": {},
   "outputs": [
    {
     "data": {
      "text/plain": [
       "torch.Size([2, 2])"
      ]
     },
     "execution_count": 17,
     "metadata": {},
     "output_type": "execute_result"
    }
   ],
   "source": [
    "x.size()"
   ]
  },
  {
   "cell_type": "code",
   "execution_count": 18,
   "id": "1a2c84b5",
   "metadata": {},
   "outputs": [
    {
     "data": {
      "text/plain": [
       "tensor([0.2500, 1.0000])"
      ]
     },
     "execution_count": 18,
     "metadata": {},
     "output_type": "execute_result"
    }
   ],
   "source": [
    "# construct tensor from list\n",
    "x = torch.tensor([0.25, 1])\n",
    "x"
   ]
  },
  {
   "cell_type": "code",
   "execution_count": 20,
   "id": "136fb94a",
   "metadata": {},
   "outputs": [
    {
     "name": "stdout",
     "output_type": "stream",
     "text": [
      "tensor([[0.2869, 0.2627],\n",
      "        [0.0812, 0.6221]])\n",
      "tensor([[0.4178, 0.6103],\n",
      "        [0.3045, 0.8453]])\n",
      "tensor([[0.7047, 0.8729],\n",
      "        [0.3857, 1.4674]])\n"
     ]
    }
   ],
   "source": [
    "x = torch.rand(2, 2)\n",
    "y = torch.rand(2, 2)\n",
    "print(x)\n",
    "print(y)\n",
    "z = x + y # element wise addition\n",
    "z = torch.add(x, y) # same as above\n",
    "print(z)"
   ]
  },
  {
   "cell_type": "code",
   "execution_count": 21,
   "id": "1b729598",
   "metadata": {},
   "outputs": [
    {
     "data": {
      "text/plain": [
       "tensor([[0.7047, 0.8729],\n",
       "        [0.3857, 1.4674]])"
      ]
     },
     "execution_count": 21,
     "metadata": {},
     "output_type": "execute_result"
    }
   ],
   "source": [
    "y.add_(x) # trailing underscore functions modify tensors in-place\n",
    "y"
   ]
  },
  {
   "cell_type": "code",
   "execution_count": 23,
   "id": "df20b157",
   "metadata": {},
   "outputs": [],
   "source": [
    "z = x - y\n",
    "z = x * y\n",
    "z = x / y\n",
    "z = torch.sub(x, y)\n",
    "z = torch.mul(x, y)\n",
    "z = torch.div(x, y)"
   ]
  },
  {
   "cell_type": "code",
   "execution_count": 25,
   "id": "63a1006e",
   "metadata": {},
   "outputs": [
    {
     "data": {
      "text/plain": [
       "tensor([[0.4926, 0.6437, 0.4794],\n",
       "        [0.1664, 0.3858, 0.4302],\n",
       "        [0.8521, 0.8034, 0.5565],\n",
       "        [0.6331, 0.9804, 0.8078],\n",
       "        [0.0558, 0.9807, 0.4363]])"
      ]
     },
     "execution_count": 25,
     "metadata": {},
     "output_type": "execute_result"
    }
   ],
   "source": [
    "x = torch.rand(5, 3)\n",
    "x"
   ]
  },
  {
   "cell_type": "code",
   "execution_count": 34,
   "id": "1d36b43a",
   "metadata": {},
   "outputs": [
    {
     "name": "stdout",
     "output_type": "stream",
     "text": [
      "tensor([0.4926, 0.1664, 0.8521, 0.6331, 0.0558])\n",
      "tensor([0.1664, 0.3858, 0.4302])\n",
      "tensor(0.3858)\n",
      "0.3857564926147461\n"
     ]
    }
   ],
   "source": [
    "# slicing tensors\n",
    "print(x[:, 0]) # all rows, first col\n",
    "print(x[1, :]) # 2nd row, all cols\n",
    "print(x[1, 1])\n",
    "print(x[1, 1].item()) # only if a single element"
   ]
  },
  {
   "cell_type": "code",
   "execution_count": 36,
   "id": "99111c60",
   "metadata": {},
   "outputs": [
    {
     "name": "stdout",
     "output_type": "stream",
     "text": [
      "tensor([[0.4460, 0.8830, 0.2271, 0.5774],\n",
      "        [0.4957, 0.0942, 0.8638, 0.5250],\n",
      "        [0.3433, 0.8947, 0.2646, 0.5779],\n",
      "        [0.7815, 0.9635, 0.9759, 0.7979]])\n",
      "tensor([0.4460, 0.8830, 0.2271, 0.5774, 0.4957, 0.0942, 0.8638, 0.5250, 0.3433,\n",
      "        0.8947, 0.2646, 0.5779, 0.7815, 0.9635, 0.9759, 0.7979])\n",
      "tensor([[0.4460, 0.8830, 0.2271, 0.5774, 0.4957, 0.0942, 0.8638, 0.5250],\n",
      "        [0.3433, 0.8947, 0.2646, 0.5779, 0.7815, 0.9635, 0.9759, 0.7979]])\n"
     ]
    }
   ],
   "source": [
    "# reshaping\n",
    "x = torch.rand(4,4)\n",
    "print(x)\n",
    "y = x.view(16)\n",
    "print(y)\n",
    "y = x.view(-1, 8) # -1 to let pytorch automaticly work out dimension\n",
    "print(y)"
   ]
  },
  {
   "cell_type": "code",
   "execution_count": 41,
   "id": "07137c1f",
   "metadata": {},
   "outputs": [
    {
     "name": "stdout",
     "output_type": "stream",
     "text": [
      "tensor([1., 1., 1., 1., 1.])\n",
      "<class 'torch.Tensor'>\n",
      "[1. 1. 1. 1. 1.]\n",
      "<class 'numpy.ndarray'>\n"
     ]
    }
   ],
   "source": [
    "# convert between torch and numpy\n",
    "a = torch.ones(5)\n",
    "b = a.numpy()\n",
    "print(a)\n",
    "print(type(a))\n",
    "print(b)\n",
    "print(type(b))"
   ]
  },
  {
   "cell_type": "code",
   "execution_count": 42,
   "id": "a65c8a99",
   "metadata": {},
   "outputs": [
    {
     "name": "stdout",
     "output_type": "stream",
     "text": [
      "tensor([2., 2., 2., 2., 2.])\n",
      "[2. 2. 2. 2. 2.]\n"
     ]
    }
   ],
   "source": [
    "# if both tensors on cpu they share memory location\n",
    "a.add_(1)\n",
    "print(a)\n",
    "print(b) # b also changes when a updated"
   ]
  },
  {
   "cell_type": "code",
   "execution_count": 43,
   "id": "17164bb4",
   "metadata": {},
   "outputs": [
    {
     "name": "stdout",
     "output_type": "stream",
     "text": [
      "[1. 1. 1. 1. 1.]\n",
      "<class 'numpy.ndarray'>\n",
      "tensor([1., 1., 1., 1., 1.], dtype=torch.float64)\n",
      "<class 'torch.Tensor'>\n"
     ]
    }
   ],
   "source": [
    "a = np.ones(5)\n",
    "b = torch.from_numpy(a)\n",
    "print(a)\n",
    "print(type(a))\n",
    "print(b)\n",
    "print(type(b))"
   ]
  },
  {
   "cell_type": "code",
   "execution_count": 45,
   "id": "811b999c",
   "metadata": {},
   "outputs": [
    {
     "name": "stdout",
     "output_type": "stream",
     "text": [
      "[2. 2. 2. 2. 2.]\n",
      "tensor([2., 2., 2., 2., 2.], dtype=torch.float64)\n"
     ]
    }
   ],
   "source": [
    "# if both tensors on cpu they share memory location\n",
    "a += 1\n",
    "print(a)\n",
    "print(b) # b also changes when a updated"
   ]
  },
  {
   "cell_type": "code",
   "execution_count": 48,
   "id": "2649e18e",
   "metadata": {},
   "outputs": [
    {
     "name": "stdout",
     "output_type": "stream",
     "text": [
      "tensor([2., 2., 2., 2., 2.], device='cuda:0')\n"
     ]
    }
   ],
   "source": [
    "# using gpu\n",
    "if torch.cuda.is_available():\n",
    "    device = torch.device('cuda')\n",
    "    x = torch.ones(5, device=device)\n",
    "    y = torch.ones(5)\n",
    "    y = y.to(device)\n",
    "    z = x + y\n",
    "    print(z)\n",
    "# numpy can only handle cpu tensors, not gpu"
   ]
  },
  {
   "cell_type": "code",
   "execution_count": null,
   "id": "4ca40846",
   "metadata": {},
   "outputs": [],
   "source": []
  }
 ],
 "metadata": {
  "kernelspec": {
   "display_name": "Python 3.10.8 ('learning-pytorch')",
   "language": "python",
   "name": "python3"
  },
  "language_info": {
   "codemirror_mode": {
    "name": "ipython",
    "version": 3
   },
   "file_extension": ".py",
   "mimetype": "text/x-python",
   "name": "python",
   "nbconvert_exporter": "python",
   "pygments_lexer": "ipython3",
   "version": "3.10.8"
  },
  "vscode": {
   "interpreter": {
    "hash": "457f0a426efbe7da8a6a945b1c2c1e09fd66e0f19fa90ef40df8ce6bf78871b8"
   }
  }
 },
 "nbformat": 4,
 "nbformat_minor": 5
}
